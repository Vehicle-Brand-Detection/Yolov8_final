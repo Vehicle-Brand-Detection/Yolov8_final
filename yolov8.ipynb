{
 "cells": [
  {
   "cell_type": "code",
   "execution_count": null,
   "metadata": {},
   "outputs": [],
   "source": [
    "# for result in results:\n",
    "#     boxes = result.boxes  # Boxes object for bbox outputs\n",
    "#     masks = result.masks  # Masks object for segmentation masks outputs\n",
    "#     probs = result.probs  # Class probabilities for classification outputs"
   ]
  },
  {
   "cell_type": "code",
   "execution_count": null,
   "metadata": {},
   "outputs": [
    {
     "name": "stdout",
     "output_type": "stream",
     "text": [
      "hello\n"
     ]
    }
   ],
   "source": [
    "print(\"hello\")"
   ]
  },
  {
   "cell_type": "code",
   "execution_count": 1,
   "metadata": {},
   "outputs": [
    {
     "ename": "TypeError",
     "evalue": "Descriptors cannot not be created directly.\nIf this call came from a _pb2.py file, your generated code is out of date and must be regenerated with protoc >= 3.19.0.\nIf you cannot immediately regenerate your protos, some other possible workarounds are:\n 1. Downgrade the protobuf package to 3.20.x or lower.\n 2. Set PROTOCOL_BUFFERS_PYTHON_IMPLEMENTATION=python (but this will use pure-Python parsing and will be much slower).\n\nMore information: https://developers.google.com/protocol-buffers/docs/news/2022-05-06#python-updates",
     "output_type": "error",
     "traceback": [
      "\u001b[1;31m---------------------------------------------------------------------------\u001b[0m",
      "\u001b[1;31mTypeError\u001b[0m                                 Traceback (most recent call last)",
      "\u001b[1;32mc:\\Users\\CHIRAG LALWANI\\Desktop\\New folder (4)\\PBL\\Yolov8_final\\yolov8.ipynb Cell 3\u001b[0m in \u001b[0;36m5\n\u001b[0;32m      <a href='vscode-notebook-cell:/c%3A/Users/CHIRAG%20LALWANI/Desktop/New%20folder%20%284%29/PBL/Yolov8_final/yolov8.ipynb#W2sZmlsZQ%3D%3D?line=2'>3</a>\u001b[0m \u001b[39m# Load the YOLOv8 model\u001b[39;00m\n\u001b[0;32m      <a href='vscode-notebook-cell:/c%3A/Users/CHIRAG%20LALWANI/Desktop/New%20folder%20%284%29/PBL/Yolov8_final/yolov8.ipynb#W2sZmlsZQ%3D%3D?line=3'>4</a>\u001b[0m model \u001b[39m=\u001b[39m YOLO(\u001b[39m'\u001b[39m\u001b[39mbest.pt\u001b[39m\u001b[39m'\u001b[39m)\n\u001b[1;32m----> <a href='vscode-notebook-cell:/c%3A/Users/CHIRAG%20LALWANI/Desktop/New%20folder%20%284%29/PBL/Yolov8_final/yolov8.ipynb#W2sZmlsZQ%3D%3D?line=4'>5</a>\u001b[0m model\u001b[39m.\u001b[39;49mexport(\u001b[39mformat\u001b[39;49m\u001b[39m=\u001b[39;49m\u001b[39m\"\u001b[39;49m\u001b[39monnx\u001b[39;49m\u001b[39m\"\u001b[39;49m)\n",
      "File \u001b[1;32mc:\\Python310\\lib\\site-packages\\ultralytics\\yolo\\engine\\model.py:340\u001b[0m, in \u001b[0;36mYOLO.export\u001b[1;34m(self, **kwargs)\u001b[0m\n\u001b[0;32m    338\u001b[0m \u001b[39mif\u001b[39;00m args\u001b[39m.\u001b[39mbatch \u001b[39m==\u001b[39m DEFAULT_CFG\u001b[39m.\u001b[39mbatch:\n\u001b[0;32m    339\u001b[0m     args\u001b[39m.\u001b[39mbatch \u001b[39m=\u001b[39m \u001b[39m1\u001b[39m  \u001b[39m# default to 1 if not modified\u001b[39;00m\n\u001b[1;32m--> 340\u001b[0m \u001b[39mreturn\u001b[39;00m Exporter(overrides\u001b[39m=\u001b[39;49margs, _callbacks\u001b[39m=\u001b[39;49m\u001b[39mself\u001b[39;49m\u001b[39m.\u001b[39;49mcallbacks)(model\u001b[39m=\u001b[39m\u001b[39mself\u001b[39m\u001b[39m.\u001b[39mmodel)\n",
      "File \u001b[1;32mc:\\Python310\\lib\\site-packages\\ultralytics\\yolo\\engine\\exporter.py:142\u001b[0m, in \u001b[0;36mExporter.__init__\u001b[1;34m(self, cfg, overrides, _callbacks)\u001b[0m\n\u001b[0;32m    140\u001b[0m \u001b[39mself\u001b[39m\u001b[39m.\u001b[39margs \u001b[39m=\u001b[39m get_cfg(cfg, overrides)\n\u001b[0;32m    141\u001b[0m \u001b[39mself\u001b[39m\u001b[39m.\u001b[39mcallbacks \u001b[39m=\u001b[39m _callbacks \u001b[39mor\u001b[39;00m callbacks\u001b[39m.\u001b[39mget_default_callbacks()\n\u001b[1;32m--> 142\u001b[0m callbacks\u001b[39m.\u001b[39;49madd_integration_callbacks(\u001b[39mself\u001b[39;49m)\n",
      "File \u001b[1;32mc:\\Python310\\lib\\site-packages\\ultralytics\\yolo\\utils\\callbacks\\base.py:205\u001b[0m, in \u001b[0;36madd_integration_callbacks\u001b[1;34m(instance)\u001b[0m\n\u001b[0;32m    203\u001b[0m \u001b[39mfrom\u001b[39;00m \u001b[39m.\u001b[39;00m\u001b[39mneptune\u001b[39;00m \u001b[39mimport\u001b[39;00m callbacks \u001b[39mas\u001b[39;00m neptune_cb\n\u001b[0;32m    204\u001b[0m \u001b[39mfrom\u001b[39;00m \u001b[39m.\u001b[39;00m\u001b[39mraytune\u001b[39;00m \u001b[39mimport\u001b[39;00m callbacks \u001b[39mas\u001b[39;00m tune_cb\n\u001b[1;32m--> 205\u001b[0m \u001b[39mfrom\u001b[39;00m \u001b[39m.\u001b[39;00m\u001b[39mtensorboard\u001b[39;00m \u001b[39mimport\u001b[39;00m callbacks \u001b[39mas\u001b[39;00m tensorboard_cb\n\u001b[0;32m    206\u001b[0m \u001b[39mfrom\u001b[39;00m \u001b[39m.\u001b[39;00m\u001b[39mwb\u001b[39;00m \u001b[39mimport\u001b[39;00m callbacks \u001b[39mas\u001b[39;00m wb_cb\n\u001b[0;32m    208\u001b[0m \u001b[39mfor\u001b[39;00m x \u001b[39min\u001b[39;00m clearml_cb, comet_cb, hub_cb, mlflow_cb, neptune_cb, tune_cb, tensorboard_cb, wb_cb:\n",
      "File \u001b[1;32mc:\\Python310\\lib\\site-packages\\ultralytics\\yolo\\utils\\callbacks\\tensorboard.py:5\u001b[0m\n\u001b[0;32m      2\u001b[0m \u001b[39mfrom\u001b[39;00m \u001b[39multralytics\u001b[39;00m\u001b[39m.\u001b[39;00m\u001b[39myolo\u001b[39;00m\u001b[39m.\u001b[39;00m\u001b[39mutils\u001b[39;00m \u001b[39mimport\u001b[39;00m LOGGER, TESTS_RUNNING, colorstr\n\u001b[0;32m      4\u001b[0m \u001b[39mtry\u001b[39;00m:\n\u001b[1;32m----> 5\u001b[0m     \u001b[39mfrom\u001b[39;00m \u001b[39mtorch\u001b[39;00m\u001b[39m.\u001b[39;00m\u001b[39mutils\u001b[39;00m\u001b[39m.\u001b[39;00m\u001b[39mtensorboard\u001b[39;00m \u001b[39mimport\u001b[39;00m SummaryWriter\n\u001b[0;32m      7\u001b[0m     \u001b[39massert\u001b[39;00m \u001b[39mnot\u001b[39;00m TESTS_RUNNING  \u001b[39m# do not log pytest\u001b[39;00m\n\u001b[0;32m      8\u001b[0m \u001b[39mexcept\u001b[39;00m (\u001b[39mImportError\u001b[39;00m, \u001b[39mAssertionError\u001b[39;00m):\n",
      "File \u001b[1;32mc:\\Python310\\lib\\site-packages\\torch\\utils\\tensorboard\\__init__.py:12\u001b[0m\n\u001b[0;32m      9\u001b[0m \u001b[39mdel\u001b[39;00m LooseVersion\n\u001b[0;32m     10\u001b[0m \u001b[39mdel\u001b[39;00m tensorboard\n\u001b[1;32m---> 12\u001b[0m \u001b[39mfrom\u001b[39;00m \u001b[39m.\u001b[39;00m\u001b[39mwriter\u001b[39;00m \u001b[39mimport\u001b[39;00m FileWriter, SummaryWriter  \u001b[39m# noqa: F401\u001b[39;00m\n\u001b[0;32m     13\u001b[0m \u001b[39mfrom\u001b[39;00m \u001b[39mtensorboard\u001b[39;00m\u001b[39m.\u001b[39;00m\u001b[39msummary\u001b[39;00m\u001b[39m.\u001b[39;00m\u001b[39mwriter\u001b[39;00m\u001b[39m.\u001b[39;00m\u001b[39mrecord_writer\u001b[39;00m \u001b[39mimport\u001b[39;00m RecordWriter  \u001b[39m# noqa: F401\u001b[39;00m\n",
      "File \u001b[1;32mc:\\Python310\\lib\\site-packages\\torch\\utils\\tensorboard\\writer.py:9\u001b[0m\n\u001b[0;32m      6\u001b[0m \u001b[39mimport\u001b[39;00m \u001b[39mtorch\u001b[39;00m\n\u001b[0;32m      8\u001b[0m \u001b[39mfrom\u001b[39;00m \u001b[39mtensorboard\u001b[39;00m\u001b[39m.\u001b[39;00m\u001b[39mcompat\u001b[39;00m \u001b[39mimport\u001b[39;00m tf\n\u001b[1;32m----> 9\u001b[0m \u001b[39mfrom\u001b[39;00m \u001b[39mtensorboard\u001b[39;00m\u001b[39m.\u001b[39;00m\u001b[39mcompat\u001b[39;00m\u001b[39m.\u001b[39;00m\u001b[39mproto\u001b[39;00m\u001b[39m.\u001b[39;00m\u001b[39mevent_pb2\u001b[39;00m \u001b[39mimport\u001b[39;00m SessionLog\n\u001b[0;32m     10\u001b[0m \u001b[39mfrom\u001b[39;00m \u001b[39mtensorboard\u001b[39;00m\u001b[39m.\u001b[39;00m\u001b[39mcompat\u001b[39;00m\u001b[39m.\u001b[39;00m\u001b[39mproto\u001b[39;00m\u001b[39m.\u001b[39;00m\u001b[39mevent_pb2\u001b[39;00m \u001b[39mimport\u001b[39;00m Event\n\u001b[0;32m     11\u001b[0m \u001b[39mfrom\u001b[39;00m \u001b[39mtensorboard\u001b[39;00m\u001b[39m.\u001b[39;00m\u001b[39mcompat\u001b[39;00m\u001b[39m.\u001b[39;00m\u001b[39mproto\u001b[39;00m \u001b[39mimport\u001b[39;00m event_pb2\n",
      "File \u001b[1;32mc:\\Python310\\lib\\site-packages\\tensorboard\\compat\\proto\\event_pb2.py:17\u001b[0m\n\u001b[0;32m     12\u001b[0m \u001b[39m# @@protoc_insertion_point(imports)\u001b[39;00m\n\u001b[0;32m     14\u001b[0m _sym_db \u001b[39m=\u001b[39m _symbol_database\u001b[39m.\u001b[39mDefault()\n\u001b[1;32m---> 17\u001b[0m \u001b[39mfrom\u001b[39;00m \u001b[39mtensorboard\u001b[39;00m\u001b[39m.\u001b[39;00m\u001b[39mcompat\u001b[39;00m\u001b[39m.\u001b[39;00m\u001b[39mproto\u001b[39;00m \u001b[39mimport\u001b[39;00m summary_pb2 \u001b[39mas\u001b[39;00m tensorboard_dot_compat_dot_proto_dot_summary__pb2\n\u001b[0;32m     18\u001b[0m \u001b[39mtry\u001b[39;00m:\n\u001b[0;32m     19\u001b[0m   tensorboard_dot_compat_dot_proto_dot_histogram__pb2 \u001b[39m=\u001b[39m tensorboard_dot_compat_dot_proto_dot_summary__pb2\u001b[39m.\u001b[39mtensorboard_dot_compat_dot_proto_dot_histogram__pb2\n",
      "File \u001b[1;32mc:\\Python310\\lib\\site-packages\\tensorboard\\compat\\proto\\summary_pb2.py:17\u001b[0m\n\u001b[0;32m     12\u001b[0m \u001b[39m# @@protoc_insertion_point(imports)\u001b[39;00m\n\u001b[0;32m     14\u001b[0m _sym_db \u001b[39m=\u001b[39m _symbol_database\u001b[39m.\u001b[39mDefault()\n\u001b[1;32m---> 17\u001b[0m \u001b[39mfrom\u001b[39;00m \u001b[39mtensorboard\u001b[39;00m\u001b[39m.\u001b[39;00m\u001b[39mcompat\u001b[39;00m\u001b[39m.\u001b[39;00m\u001b[39mproto\u001b[39;00m \u001b[39mimport\u001b[39;00m histogram_pb2 \u001b[39mas\u001b[39;00m tensorboard_dot_compat_dot_proto_dot_histogram__pb2\n\u001b[0;32m     18\u001b[0m \u001b[39mfrom\u001b[39;00m \u001b[39mtensorboard\u001b[39;00m\u001b[39m.\u001b[39;00m\u001b[39mcompat\u001b[39;00m\u001b[39m.\u001b[39;00m\u001b[39mproto\u001b[39;00m \u001b[39mimport\u001b[39;00m tensor_pb2 \u001b[39mas\u001b[39;00m tensorboard_dot_compat_dot_proto_dot_tensor__pb2\n\u001b[0;32m     20\u001b[0m \u001b[39mfrom\u001b[39;00m \u001b[39mtensorboard\u001b[39;00m\u001b[39m.\u001b[39;00m\u001b[39mcompat\u001b[39;00m\u001b[39m.\u001b[39;00m\u001b[39mproto\u001b[39;00m\u001b[39m.\u001b[39;00m\u001b[39mhistogram_pb2\u001b[39;00m \u001b[39mimport\u001b[39;00m \u001b[39m*\u001b[39m\n",
      "File \u001b[1;32mc:\\Python310\\lib\\site-packages\\tensorboard\\compat\\proto\\histogram_pb2.py:36\u001b[0m\n\u001b[0;32m     13\u001b[0m _sym_db \u001b[39m=\u001b[39m _symbol_database\u001b[39m.\u001b[39mDefault()\n\u001b[0;32m     18\u001b[0m DESCRIPTOR \u001b[39m=\u001b[39m _descriptor\u001b[39m.\u001b[39mFileDescriptor(\n\u001b[0;32m     19\u001b[0m   name\u001b[39m=\u001b[39m\u001b[39m'\u001b[39m\u001b[39mtensorboard/compat/proto/histogram.proto\u001b[39m\u001b[39m'\u001b[39m,\n\u001b[0;32m     20\u001b[0m   package\u001b[39m=\u001b[39m\u001b[39m'\u001b[39m\u001b[39mtensorboard\u001b[39m\u001b[39m'\u001b[39m,\n\u001b[1;32m   (...)\u001b[0m\n\u001b[0;32m     23\u001b[0m   serialized_pb\u001b[39m=\u001b[39m_b(\u001b[39m'\u001b[39m\u001b[39m\\n\u001b[39;00m\u001b[39m(tensorboard/compat/proto/histogram.proto\u001b[39m\u001b[39m\\x12\u001b[39;00m\u001b[39m\\x0b\u001b[39;00m\u001b[39mtensorboard\u001b[39m\u001b[39m\\\"\u001b[39;00m\u001b[39m\\x87\u001b[39;00m\u001b[39m\\x01\u001b[39;00m\u001b[39m\\n\u001b[39;00m\u001b[39m\\x0e\u001b[39;00m\u001b[39mHistogramProto\u001b[39m\u001b[39m\\x12\u001b[39;00m\u001b[39m\\x0b\u001b[39;00m\u001b[39m\\n\u001b[39;00m\u001b[39m\\x03\u001b[39;00m\u001b[39mmin\u001b[39m\u001b[39m\\x18\u001b[39;00m\u001b[39m\\x01\u001b[39;00m\u001b[39m \u001b[39m\u001b[39m\\x01\u001b[39;00m\u001b[39m(\u001b[39m\u001b[39m\\x01\u001b[39;00m\u001b[39m\\x12\u001b[39;00m\u001b[39m\\x0b\u001b[39;00m\u001b[39m\\n\u001b[39;00m\u001b[39m\\x03\u001b[39;00m\u001b[39mmax\u001b[39m\u001b[39m\\x18\u001b[39;00m\u001b[39m\\x02\u001b[39;00m\u001b[39m \u001b[39m\u001b[39m\\x01\u001b[39;00m\u001b[39m(\u001b[39m\u001b[39m\\x01\u001b[39;00m\u001b[39m\\x12\u001b[39;00m\u001b[39m\\x0b\u001b[39;00m\u001b[39m\\n\u001b[39;00m\u001b[39m\\x03\u001b[39;00m\u001b[39mnum\u001b[39m\u001b[39m\\x18\u001b[39;00m\u001b[39m\\x03\u001b[39;00m\u001b[39m \u001b[39m\u001b[39m\\x01\u001b[39;00m\u001b[39m(\u001b[39m\u001b[39m\\x01\u001b[39;00m\u001b[39m\\x12\u001b[39;00m\u001b[39m\\x0b\u001b[39;00m\u001b[39m\\n\u001b[39;00m\u001b[39m\\x03\u001b[39;00m\u001b[39msum\u001b[39m\u001b[39m\\x18\u001b[39;00m\u001b[39m\\x04\u001b[39;00m\u001b[39m \u001b[39m\u001b[39m\\x01\u001b[39;00m\u001b[39m(\u001b[39m\u001b[39m\\x01\u001b[39;00m\u001b[39m\\x12\u001b[39;00m\u001b[39m\\x13\u001b[39;00m\u001b[39m\\n\u001b[39;00m\u001b[39m\\x0b\u001b[39;00m\u001b[39msum_squares\u001b[39m\u001b[39m\\x18\u001b[39;00m\u001b[39m\\x05\u001b[39;00m\u001b[39m \u001b[39m\u001b[39m\\x01\u001b[39;00m\u001b[39m(\u001b[39m\u001b[39m\\x01\u001b[39;00m\u001b[39m\\x12\u001b[39;00m\u001b[39m\\x18\u001b[39;00m\u001b[39m\\n\u001b[39;00m\u001b[39m\\x0c\u001b[39;00m\u001b[39m\\x62\u001b[39;00m\u001b[39mucket_limit\u001b[39m\u001b[39m\\x18\u001b[39;00m\u001b[39m\\x06\u001b[39;00m\u001b[39m \u001b[39m\u001b[39m\\x03\u001b[39;00m\u001b[39m(\u001b[39m\u001b[39m\\x01\u001b[39;00m\u001b[39m\\x42\u001b[39;00m\u001b[39m\\x02\u001b[39;00m\u001b[39m\\x10\u001b[39;00m\u001b[39m\\x01\u001b[39;00m\u001b[39m\\x12\u001b[39;00m\u001b[39m\\x12\u001b[39;00m\u001b[39m\\n\u001b[39;00m\u001b[39m\\x06\u001b[39;00m\u001b[39m\\x62\u001b[39;00m\u001b[39mucket\u001b[39m\u001b[39m\\x18\u001b[39;00m\u001b[39m\\x07\u001b[39;00m\u001b[39m \u001b[39m\u001b[39m\\x03\u001b[39;00m\u001b[39m(\u001b[39m\u001b[39m\\x01\u001b[39;00m\u001b[39m\\x42\u001b[39;00m\u001b[39m\\x02\u001b[39;00m\u001b[39m\\x10\u001b[39;00m\u001b[39m\\x01\u001b[39;00m\u001b[39m\\x42\u001b[39;00m\u001b[39m\\\\\u001b[39;00m\u001b[39m\\n\u001b[39;00m\u001b[39m\\x18\u001b[39;00m\u001b[39morg.tensorflow.frameworkP\u001b[39m\u001b[39m\\x01\u001b[39;00m\u001b[39mZ;github.com/google/tsl/tsl/go/core/protobuf/summary_go_proto\u001b[39m\u001b[39m\\xf8\u001b[39;00m\u001b[39m\\x01\u001b[39;00m\u001b[39m\\x01\u001b[39;00m\u001b[39m\\x62\u001b[39;00m\u001b[39m\\x06\u001b[39;00m\u001b[39mproto3\u001b[39m\u001b[39m'\u001b[39m)\n\u001b[0;32m     24\u001b[0m )\n\u001b[0;32m     29\u001b[0m _HISTOGRAMPROTO \u001b[39m=\u001b[39m _descriptor\u001b[39m.\u001b[39mDescriptor(\n\u001b[0;32m     30\u001b[0m   name\u001b[39m=\u001b[39m\u001b[39m'\u001b[39m\u001b[39mHistogramProto\u001b[39m\u001b[39m'\u001b[39m,\n\u001b[0;32m     31\u001b[0m   full_name\u001b[39m=\u001b[39m\u001b[39m'\u001b[39m\u001b[39mtensorboard.HistogramProto\u001b[39m\u001b[39m'\u001b[39m,\n\u001b[0;32m     32\u001b[0m   filename\u001b[39m=\u001b[39m\u001b[39mNone\u001b[39;00m,\n\u001b[0;32m     33\u001b[0m   file\u001b[39m=\u001b[39mDESCRIPTOR,\n\u001b[0;32m     34\u001b[0m   containing_type\u001b[39m=\u001b[39m\u001b[39mNone\u001b[39;00m,\n\u001b[0;32m     35\u001b[0m   fields\u001b[39m=\u001b[39m[\n\u001b[1;32m---> 36\u001b[0m     _descriptor\u001b[39m.\u001b[39;49mFieldDescriptor(\n\u001b[0;32m     37\u001b[0m       name\u001b[39m=\u001b[39;49m\u001b[39m'\u001b[39;49m\u001b[39mmin\u001b[39;49m\u001b[39m'\u001b[39;49m, full_name\u001b[39m=\u001b[39;49m\u001b[39m'\u001b[39;49m\u001b[39mtensorboard.HistogramProto.min\u001b[39;49m\u001b[39m'\u001b[39;49m, index\u001b[39m=\u001b[39;49m\u001b[39m0\u001b[39;49m,\n\u001b[0;32m     38\u001b[0m       number\u001b[39m=\u001b[39;49m\u001b[39m1\u001b[39;49m, \u001b[39mtype\u001b[39;49m\u001b[39m=\u001b[39;49m\u001b[39m1\u001b[39;49m, cpp_type\u001b[39m=\u001b[39;49m\u001b[39m5\u001b[39;49m, label\u001b[39m=\u001b[39;49m\u001b[39m1\u001b[39;49m,\n\u001b[0;32m     39\u001b[0m       has_default_value\u001b[39m=\u001b[39;49m\u001b[39mFalse\u001b[39;49;00m, default_value\u001b[39m=\u001b[39;49m\u001b[39mfloat\u001b[39;49m(\u001b[39m0\u001b[39;49m),\n\u001b[0;32m     40\u001b[0m       message_type\u001b[39m=\u001b[39;49m\u001b[39mNone\u001b[39;49;00m, enum_type\u001b[39m=\u001b[39;49m\u001b[39mNone\u001b[39;49;00m, containing_type\u001b[39m=\u001b[39;49m\u001b[39mNone\u001b[39;49;00m,\n\u001b[0;32m     41\u001b[0m       is_extension\u001b[39m=\u001b[39;49m\u001b[39mFalse\u001b[39;49;00m, extension_scope\u001b[39m=\u001b[39;49m\u001b[39mNone\u001b[39;49;00m,\n\u001b[0;32m     42\u001b[0m       serialized_options\u001b[39m=\u001b[39;49m\u001b[39mNone\u001b[39;49;00m, file\u001b[39m=\u001b[39;49mDESCRIPTOR),\n\u001b[0;32m     43\u001b[0m     _descriptor\u001b[39m.\u001b[39mFieldDescriptor(\n\u001b[0;32m     44\u001b[0m       name\u001b[39m=\u001b[39m\u001b[39m'\u001b[39m\u001b[39mmax\u001b[39m\u001b[39m'\u001b[39m, full_name\u001b[39m=\u001b[39m\u001b[39m'\u001b[39m\u001b[39mtensorboard.HistogramProto.max\u001b[39m\u001b[39m'\u001b[39m, index\u001b[39m=\u001b[39m\u001b[39m1\u001b[39m,\n\u001b[0;32m     45\u001b[0m       number\u001b[39m=\u001b[39m\u001b[39m2\u001b[39m, \u001b[39mtype\u001b[39m\u001b[39m=\u001b[39m\u001b[39m1\u001b[39m, cpp_type\u001b[39m=\u001b[39m\u001b[39m5\u001b[39m, label\u001b[39m=\u001b[39m\u001b[39m1\u001b[39m,\n\u001b[0;32m     46\u001b[0m       has_default_value\u001b[39m=\u001b[39m\u001b[39mFalse\u001b[39;00m, default_value\u001b[39m=\u001b[39m\u001b[39mfloat\u001b[39m(\u001b[39m0\u001b[39m),\n\u001b[0;32m     47\u001b[0m       message_type\u001b[39m=\u001b[39m\u001b[39mNone\u001b[39;00m, enum_type\u001b[39m=\u001b[39m\u001b[39mNone\u001b[39;00m, containing_type\u001b[39m=\u001b[39m\u001b[39mNone\u001b[39;00m,\n\u001b[0;32m     48\u001b[0m       is_extension\u001b[39m=\u001b[39m\u001b[39mFalse\u001b[39;00m, extension_scope\u001b[39m=\u001b[39m\u001b[39mNone\u001b[39;00m,\n\u001b[0;32m     49\u001b[0m       serialized_options\u001b[39m=\u001b[39m\u001b[39mNone\u001b[39;00m, file\u001b[39m=\u001b[39mDESCRIPTOR),\n\u001b[0;32m     50\u001b[0m     _descriptor\u001b[39m.\u001b[39mFieldDescriptor(\n\u001b[0;32m     51\u001b[0m       name\u001b[39m=\u001b[39m\u001b[39m'\u001b[39m\u001b[39mnum\u001b[39m\u001b[39m'\u001b[39m, full_name\u001b[39m=\u001b[39m\u001b[39m'\u001b[39m\u001b[39mtensorboard.HistogramProto.num\u001b[39m\u001b[39m'\u001b[39m, index\u001b[39m=\u001b[39m\u001b[39m2\u001b[39m,\n\u001b[0;32m     52\u001b[0m       number\u001b[39m=\u001b[39m\u001b[39m3\u001b[39m, \u001b[39mtype\u001b[39m\u001b[39m=\u001b[39m\u001b[39m1\u001b[39m, cpp_type\u001b[39m=\u001b[39m\u001b[39m5\u001b[39m, label\u001b[39m=\u001b[39m\u001b[39m1\u001b[39m,\n\u001b[0;32m     53\u001b[0m       has_default_value\u001b[39m=\u001b[39m\u001b[39mFalse\u001b[39;00m, default_value\u001b[39m=\u001b[39m\u001b[39mfloat\u001b[39m(\u001b[39m0\u001b[39m),\n\u001b[0;32m     54\u001b[0m       message_type\u001b[39m=\u001b[39m\u001b[39mNone\u001b[39;00m, enum_type\u001b[39m=\u001b[39m\u001b[39mNone\u001b[39;00m, containing_type\u001b[39m=\u001b[39m\u001b[39mNone\u001b[39;00m,\n\u001b[0;32m     55\u001b[0m       is_extension\u001b[39m=\u001b[39m\u001b[39mFalse\u001b[39;00m, extension_scope\u001b[39m=\u001b[39m\u001b[39mNone\u001b[39;00m,\n\u001b[0;32m     56\u001b[0m       serialized_options\u001b[39m=\u001b[39m\u001b[39mNone\u001b[39;00m, file\u001b[39m=\u001b[39mDESCRIPTOR),\n\u001b[0;32m     57\u001b[0m     _descriptor\u001b[39m.\u001b[39mFieldDescriptor(\n\u001b[0;32m     58\u001b[0m       name\u001b[39m=\u001b[39m\u001b[39m'\u001b[39m\u001b[39msum\u001b[39m\u001b[39m'\u001b[39m, full_name\u001b[39m=\u001b[39m\u001b[39m'\u001b[39m\u001b[39mtensorboard.HistogramProto.sum\u001b[39m\u001b[39m'\u001b[39m, index\u001b[39m=\u001b[39m\u001b[39m3\u001b[39m,\n\u001b[0;32m     59\u001b[0m       number\u001b[39m=\u001b[39m\u001b[39m4\u001b[39m, \u001b[39mtype\u001b[39m\u001b[39m=\u001b[39m\u001b[39m1\u001b[39m, cpp_type\u001b[39m=\u001b[39m\u001b[39m5\u001b[39m, label\u001b[39m=\u001b[39m\u001b[39m1\u001b[39m,\n\u001b[0;32m     60\u001b[0m       has_default_value\u001b[39m=\u001b[39m\u001b[39mFalse\u001b[39;00m, default_value\u001b[39m=\u001b[39m\u001b[39mfloat\u001b[39m(\u001b[39m0\u001b[39m),\n\u001b[0;32m     61\u001b[0m       message_type\u001b[39m=\u001b[39m\u001b[39mNone\u001b[39;00m, enum_type\u001b[39m=\u001b[39m\u001b[39mNone\u001b[39;00m, containing_type\u001b[39m=\u001b[39m\u001b[39mNone\u001b[39;00m,\n\u001b[0;32m     62\u001b[0m       is_extension\u001b[39m=\u001b[39m\u001b[39mFalse\u001b[39;00m, extension_scope\u001b[39m=\u001b[39m\u001b[39mNone\u001b[39;00m,\n\u001b[0;32m     63\u001b[0m       serialized_options\u001b[39m=\u001b[39m\u001b[39mNone\u001b[39;00m, file\u001b[39m=\u001b[39mDESCRIPTOR),\n\u001b[0;32m     64\u001b[0m     _descriptor\u001b[39m.\u001b[39mFieldDescriptor(\n\u001b[0;32m     65\u001b[0m       name\u001b[39m=\u001b[39m\u001b[39m'\u001b[39m\u001b[39msum_squares\u001b[39m\u001b[39m'\u001b[39m, full_name\u001b[39m=\u001b[39m\u001b[39m'\u001b[39m\u001b[39mtensorboard.HistogramProto.sum_squares\u001b[39m\u001b[39m'\u001b[39m, index\u001b[39m=\u001b[39m\u001b[39m4\u001b[39m,\n\u001b[0;32m     66\u001b[0m       number\u001b[39m=\u001b[39m\u001b[39m5\u001b[39m, \u001b[39mtype\u001b[39m\u001b[39m=\u001b[39m\u001b[39m1\u001b[39m, cpp_type\u001b[39m=\u001b[39m\u001b[39m5\u001b[39m, label\u001b[39m=\u001b[39m\u001b[39m1\u001b[39m,\n\u001b[0;32m     67\u001b[0m       has_default_value\u001b[39m=\u001b[39m\u001b[39mFalse\u001b[39;00m, default_value\u001b[39m=\u001b[39m\u001b[39mfloat\u001b[39m(\u001b[39m0\u001b[39m),\n\u001b[0;32m     68\u001b[0m       message_type\u001b[39m=\u001b[39m\u001b[39mNone\u001b[39;00m, enum_type\u001b[39m=\u001b[39m\u001b[39mNone\u001b[39;00m, containing_type\u001b[39m=\u001b[39m\u001b[39mNone\u001b[39;00m,\n\u001b[0;32m     69\u001b[0m       is_extension\u001b[39m=\u001b[39m\u001b[39mFalse\u001b[39;00m, extension_scope\u001b[39m=\u001b[39m\u001b[39mNone\u001b[39;00m,\n\u001b[0;32m     70\u001b[0m       serialized_options\u001b[39m=\u001b[39m\u001b[39mNone\u001b[39;00m, file\u001b[39m=\u001b[39mDESCRIPTOR),\n\u001b[0;32m     71\u001b[0m     _descriptor\u001b[39m.\u001b[39mFieldDescriptor(\n\u001b[0;32m     72\u001b[0m       name\u001b[39m=\u001b[39m\u001b[39m'\u001b[39m\u001b[39mbucket_limit\u001b[39m\u001b[39m'\u001b[39m, full_name\u001b[39m=\u001b[39m\u001b[39m'\u001b[39m\u001b[39mtensorboard.HistogramProto.bucket_limit\u001b[39m\u001b[39m'\u001b[39m, index\u001b[39m=\u001b[39m\u001b[39m5\u001b[39m,\n\u001b[0;32m     73\u001b[0m       number\u001b[39m=\u001b[39m\u001b[39m6\u001b[39m, \u001b[39mtype\u001b[39m\u001b[39m=\u001b[39m\u001b[39m1\u001b[39m, cpp_type\u001b[39m=\u001b[39m\u001b[39m5\u001b[39m, label\u001b[39m=\u001b[39m\u001b[39m3\u001b[39m,\n\u001b[0;32m     74\u001b[0m       has_default_value\u001b[39m=\u001b[39m\u001b[39mFalse\u001b[39;00m, default_value\u001b[39m=\u001b[39m[],\n\u001b[0;32m     75\u001b[0m       message_type\u001b[39m=\u001b[39m\u001b[39mNone\u001b[39;00m, enum_type\u001b[39m=\u001b[39m\u001b[39mNone\u001b[39;00m, containing_type\u001b[39m=\u001b[39m\u001b[39mNone\u001b[39;00m,\n\u001b[0;32m     76\u001b[0m       is_extension\u001b[39m=\u001b[39m\u001b[39mFalse\u001b[39;00m, extension_scope\u001b[39m=\u001b[39m\u001b[39mNone\u001b[39;00m,\n\u001b[0;32m     77\u001b[0m       serialized_options\u001b[39m=\u001b[39m_b(\u001b[39m'\u001b[39m\u001b[39m\\020\u001b[39;00m\u001b[39m\\001\u001b[39;00m\u001b[39m'\u001b[39m), file\u001b[39m=\u001b[39mDESCRIPTOR),\n\u001b[0;32m     78\u001b[0m     _descriptor\u001b[39m.\u001b[39mFieldDescriptor(\n\u001b[0;32m     79\u001b[0m       name\u001b[39m=\u001b[39m\u001b[39m'\u001b[39m\u001b[39mbucket\u001b[39m\u001b[39m'\u001b[39m, full_name\u001b[39m=\u001b[39m\u001b[39m'\u001b[39m\u001b[39mtensorboard.HistogramProto.bucket\u001b[39m\u001b[39m'\u001b[39m, index\u001b[39m=\u001b[39m\u001b[39m6\u001b[39m,\n\u001b[0;32m     80\u001b[0m       number\u001b[39m=\u001b[39m\u001b[39m7\u001b[39m, \u001b[39mtype\u001b[39m\u001b[39m=\u001b[39m\u001b[39m1\u001b[39m, cpp_type\u001b[39m=\u001b[39m\u001b[39m5\u001b[39m, label\u001b[39m=\u001b[39m\u001b[39m3\u001b[39m,\n\u001b[0;32m     81\u001b[0m       has_default_value\u001b[39m=\u001b[39m\u001b[39mFalse\u001b[39;00m, default_value\u001b[39m=\u001b[39m[],\n\u001b[0;32m     82\u001b[0m       message_type\u001b[39m=\u001b[39m\u001b[39mNone\u001b[39;00m, enum_type\u001b[39m=\u001b[39m\u001b[39mNone\u001b[39;00m, containing_type\u001b[39m=\u001b[39m\u001b[39mNone\u001b[39;00m,\n\u001b[0;32m     83\u001b[0m       is_extension\u001b[39m=\u001b[39m\u001b[39mFalse\u001b[39;00m, extension_scope\u001b[39m=\u001b[39m\u001b[39mNone\u001b[39;00m,\n\u001b[0;32m     84\u001b[0m       serialized_options\u001b[39m=\u001b[39m_b(\u001b[39m'\u001b[39m\u001b[39m\\020\u001b[39;00m\u001b[39m\\001\u001b[39;00m\u001b[39m'\u001b[39m), file\u001b[39m=\u001b[39mDESCRIPTOR),\n\u001b[0;32m     85\u001b[0m   ],\n\u001b[0;32m     86\u001b[0m   extensions\u001b[39m=\u001b[39m[\n\u001b[0;32m     87\u001b[0m   ],\n\u001b[0;32m     88\u001b[0m   nested_types\u001b[39m=\u001b[39m[],\n\u001b[0;32m     89\u001b[0m   enum_types\u001b[39m=\u001b[39m[\n\u001b[0;32m     90\u001b[0m   ],\n\u001b[0;32m     91\u001b[0m   serialized_options\u001b[39m=\u001b[39m\u001b[39mNone\u001b[39;00m,\n\u001b[0;32m     92\u001b[0m   is_extendable\u001b[39m=\u001b[39m\u001b[39mFalse\u001b[39;00m,\n\u001b[0;32m     93\u001b[0m   syntax\u001b[39m=\u001b[39m\u001b[39m'\u001b[39m\u001b[39mproto3\u001b[39m\u001b[39m'\u001b[39m,\n\u001b[0;32m     94\u001b[0m   extension_ranges\u001b[39m=\u001b[39m[],\n\u001b[0;32m     95\u001b[0m   oneofs\u001b[39m=\u001b[39m[\n\u001b[0;32m     96\u001b[0m   ],\n\u001b[0;32m     97\u001b[0m   serialized_start\u001b[39m=\u001b[39m\u001b[39m58\u001b[39m,\n\u001b[0;32m     98\u001b[0m   serialized_end\u001b[39m=\u001b[39m\u001b[39m193\u001b[39m,\n\u001b[0;32m     99\u001b[0m )\n\u001b[0;32m    101\u001b[0m DESCRIPTOR\u001b[39m.\u001b[39mmessage_types_by_name[\u001b[39m'\u001b[39m\u001b[39mHistogramProto\u001b[39m\u001b[39m'\u001b[39m] \u001b[39m=\u001b[39m _HISTOGRAMPROTO\n\u001b[0;32m    102\u001b[0m _sym_db\u001b[39m.\u001b[39mRegisterFileDescriptor(DESCRIPTOR)\n",
      "File \u001b[1;32mc:\\Python310\\lib\\site-packages\\google\\protobuf\\descriptor.py:561\u001b[0m, in \u001b[0;36mFieldDescriptor.__new__\u001b[1;34m(cls, name, full_name, index, number, type, cpp_type, label, default_value, message_type, enum_type, containing_type, is_extension, extension_scope, options, serialized_options, has_default_value, containing_oneof, json_name, file, create_key)\u001b[0m\n\u001b[0;32m    555\u001b[0m \u001b[39mdef\u001b[39;00m \u001b[39m__new__\u001b[39m(\u001b[39mcls\u001b[39m, name, full_name, index, number, \u001b[39mtype\u001b[39m, cpp_type, label,\n\u001b[0;32m    556\u001b[0m             default_value, message_type, enum_type, containing_type,\n\u001b[0;32m    557\u001b[0m             is_extension, extension_scope, options\u001b[39m=\u001b[39m\u001b[39mNone\u001b[39;00m,\n\u001b[0;32m    558\u001b[0m             serialized_options\u001b[39m=\u001b[39m\u001b[39mNone\u001b[39;00m,\n\u001b[0;32m    559\u001b[0m             has_default_value\u001b[39m=\u001b[39m\u001b[39mTrue\u001b[39;00m, containing_oneof\u001b[39m=\u001b[39m\u001b[39mNone\u001b[39;00m, json_name\u001b[39m=\u001b[39m\u001b[39mNone\u001b[39;00m,\n\u001b[0;32m    560\u001b[0m             file\u001b[39m=\u001b[39m\u001b[39mNone\u001b[39;00m, create_key\u001b[39m=\u001b[39m\u001b[39mNone\u001b[39;00m):  \u001b[39m# pylint: disable=redefined-builtin\u001b[39;00m\n\u001b[1;32m--> 561\u001b[0m   _message\u001b[39m.\u001b[39;49mMessage\u001b[39m.\u001b[39;49m_CheckCalledFromGeneratedFile()\n\u001b[0;32m    562\u001b[0m   \u001b[39mif\u001b[39;00m is_extension:\n\u001b[0;32m    563\u001b[0m     \u001b[39mreturn\u001b[39;00m _message\u001b[39m.\u001b[39mdefault_pool\u001b[39m.\u001b[39mFindExtensionByName(full_name)\n",
      "\u001b[1;31mTypeError\u001b[0m: Descriptors cannot not be created directly.\nIf this call came from a _pb2.py file, your generated code is out of date and must be regenerated with protoc >= 3.19.0.\nIf you cannot immediately regenerate your protos, some other possible workarounds are:\n 1. Downgrade the protobuf package to 3.20.x or lower.\n 2. Set PROTOCOL_BUFFERS_PYTHON_IMPLEMENTATION=python (but this will use pure-Python parsing and will be much slower).\n\nMore information: https://developers.google.com/protocol-buffers/docs/news/2022-05-06#python-updates"
     ]
    }
   ],
   "source": [
    "# import cv2\n",
    "from ultralytics import YOLO\n",
    "# Load the YOLOv8 model\n",
    "model = YOLO('best.pt')\n",
    "model.export(format=\"onnx\")"
   ]
  },
  {
   "cell_type": "code",
   "execution_count": null,
   "metadata": {},
   "outputs": [],
   "source": [
    "# import cv2\n",
    "from ultralytics import YOLO\n",
    "# Load the YOLOv8 model\n",
    "model = YOLO('best.pt')\n",
    "model.export(format=\"onnx\")\n",
    "\n",
    "# # Open the video file\n",
    "# path = \"pexels-mike-bird-2109463-3840x2160-60fps.mp4\"\n",
    "# a,b=path.split('.')\n",
    "# if b in ['jpeg','jpg','png']:\n",
    "#     img=cv2.imread(path)\n",
    "#     results = model(img)\n",
    "#     annotated_frame = results[0].plot()\n",
    "#     cv2.imshow(\"YOLOv8 Inference\", annotated_frame)\n",
    "#     cv2.waitKey(0)\n",
    "#     cv2.destroyAllWindows()\n",
    "    \n",
    "# else:\n",
    "#     cap = cv2.VideoCapture(path)\n",
    "#     # Loop through the video frames\n",
    "#     while cap.isOpened():\n",
    "#         # Read a frame from the video\n",
    "#         success, frame = cap.read()\n",
    "        \n",
    "#         if success:\n",
    "#             # Run YOLOv8 inference on the frame\n",
    "#             results = model(frame)\n",
    "#             print()\n",
    "#             print(results[0].boxes.cls,\"Data\")\n",
    "#             print()\n",
    "#             #,results[0].boxes.data,results[0].boxes.cls\n",
    "#             # Visualize the results on the frame\n",
    "#             annotated_frame = results[0].plot(conf=True,labels=True,probs=True)\n",
    "#             cv2.namedWindow(\"YOLOv8 Inference\", cv2.WINDOW_NORMAL)\n",
    "\n",
    "#             cv2.resizeWindow(\"YOLOv8 Inference\", 1280, 600)\n",
    "#             # Display the annotated frame\n",
    "#             cv2.imshow(\"YOLOv8 Inference\", annotated_frame)\n",
    "\n",
    "#             # Break the loop if 'q' is pressed\n",
    "#             if cv2.waitKey(500) & 0xFF == ord(\"q\"):\n",
    "#                 break\n",
    "#         else:\n",
    "#             # Break the loop if the end of the video is reached\n",
    "#             break\n",
    "\n",
    "#     # # Release the video capture object and close the display window\n",
    "#     cap.release()\n",
    "#     cv2.destroyAllWindows()"
   ]
  },
  {
   "cell_type": "code",
   "execution_count": null,
   "metadata": {},
   "outputs": [],
   "source": [
    "import cv2\n",
    "from ultralytics import YOLO\n",
    "# Load the YOLOv8 model\n",
    "model = YOLO('best.pt')\n",
    "\n",
    "# Open the video file\n",
    "path = \"1.mp4\"\n",
    "a,b=path.split('.')\n",
    "if b in ['jpeg','jpg','png']:\n",
    "    img=cv2.imread(path)\n",
    "    results = model.predict(img,iou=0.6,conf=0.4)\n",
    "    annotated_frame = results[0].plot()\n",
    "    cv2.imshow(\"YOLOv8 Inference\", annotated_frame)\n",
    "    cv2.waitKey(0)\n",
    "    cv2.destroyAllWindows()\n",
    "    \n",
    "else:\n",
    "    cap = cv2.VideoCapture(path)\n",
    "    # Loop through the video frames\n",
    "    while cap.isOpened():\n",
    "        # Read a frame from the video\n",
    "        success, frame = cap.read()\n",
    "        \n",
    "        if success:\n",
    "            # Run YOLOv8 inference on the frame\n",
    "            results = model.predict(frame,conf=0.2)\n",
    "            print()\n",
    "            print(results[0].boxes.cls,\"Data\")\n",
    "            print()\n",
    "            annotated_frame=results[0].plot()\n",
    "            # #,results[0].boxes.data,results[0].boxes.cls\n",
    "            # if len(results[0].boxes.conf)>0:\n",
    "            #     if max(results[0].boxes.conf)>0.4:\n",
    "            #      annotated_frame = results[0].plot(conf=True,labels=True,probs=True)\n",
    "            # else:\n",
    "            #     annotated_frame = results[0].plot(conf=False,labels=False,probs=False)\n",
    "            cv2.namedWindow(\"YOLOv8 Inference\", cv2.WINDOW_NORMAL)\n",
    "\n",
    "            cv2.resizeWindow(\"YOLOv8 Inference\", 1280, 600)\n",
    "            # Display the annotated frame\n",
    "            cv2.imshow(\"YOLOv8 Inference\", annotated_frame)\n",
    "\n",
    "            # Break the loop if 'q' is pressed\n",
    "            if cv2.waitKey(1) & 0xFF == ord(\"q\"):\n",
    "                break\n",
    "        else:\n",
    "            # Break the loop if the end of the video is reached\n",
    "            break\n",
    "\n",
    "    # # Release the video capture object and close the display window\n",
    "    cap.release()\n",
    "    cv2.destroyAllWindows()"
   ]
  },
  {
   "cell_type": "code",
   "execution_count": null,
   "metadata": {},
   "outputs": [],
   "source": [
    "#https://docs.ultralytics.com/modes/predict/#boxes"
   ]
  },
  {
   "cell_type": "code",
   "execution_count": null,
   "metadata": {},
   "outputs": [],
   "source": []
  },
  {
   "cell_type": "code",
   "execution_count": null,
   "metadata": {},
   "outputs": [],
   "source": []
  }
 ],
 "metadata": {
  "kernelspec": {
   "display_name": "Python 3",
   "language": "python",
   "name": "python3"
  },
  "language_info": {
   "codemirror_mode": {
    "name": "ipython",
    "version": 3
   },
   "file_extension": ".py",
   "mimetype": "text/x-python",
   "name": "python",
   "nbconvert_exporter": "python",
   "pygments_lexer": "ipython3",
   "version": "3.10.0"
  },
  "orig_nbformat": 4
 },
 "nbformat": 4,
 "nbformat_minor": 2
}

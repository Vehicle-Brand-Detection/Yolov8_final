{
 "cells": [
  {
   "cell_type": "code",
   "execution_count": 4,
   "metadata": {},
   "outputs": [],
   "source": [
    "# for result in results:\n",
    "#     boxes = result.boxes  # Boxes object for bbox outputs\n",
    "#     masks = result.masks  # Masks object for segmentation masks outputs\n",
    "#     probs = result.probs  # Class probabilities for classification outputs"
   ]
  },
  {
   "cell_type": "code",
   "execution_count": 10,
   "metadata": {},
   "outputs": [
    {
     "name": "stderr",
     "output_type": "stream",
     "text": [
      "\n",
      "0: 352x640 1 Maruti Suzuki, 107.5ms\n",
      "Speed: 1.0ms preprocess, 107.5ms inference, 1.0ms postprocess per image at shape (1, 3, 640, 640)\n",
      "\n"
     ]
    },
    {
     "name": "stdout",
     "output_type": "stream",
     "text": [
      "\n",
      "tensor([5.]) Data\n",
      "\n"
     ]
    },
    {
     "name": "stderr",
     "output_type": "stream",
     "text": [
      "0: 352x640 1 Maruti Suzuki, 148.3ms\n",
      "Speed: 2.0ms preprocess, 148.3ms inference, 1.0ms postprocess per image at shape (1, 3, 640, 640)\n",
      "\n"
     ]
    },
    {
     "name": "stdout",
     "output_type": "stream",
     "text": [
      "\n",
      "tensor([5.]) Data\n",
      "\n"
     ]
    },
    {
     "name": "stderr",
     "output_type": "stream",
     "text": [
      "0: 352x640 (no detections), 195.2ms\n",
      "Speed: 4.3ms preprocess, 195.2ms inference, 1.0ms postprocess per image at shape (1, 3, 640, 640)\n",
      "\n",
      "0: 352x640 2 Maruti Suzukis, 114.2ms\n",
      "Speed: 1.0ms preprocess, 114.2ms inference, 1.0ms postprocess per image at shape (1, 3, 640, 640)\n",
      "\n"
     ]
    },
    {
     "name": "stdout",
     "output_type": "stream",
     "text": [
      "\n",
      "tensor([]) Data\n",
      "\n",
      "\n",
      "tensor([5., 5.]) Data\n",
      "\n"
     ]
    },
    {
     "name": "stderr",
     "output_type": "stream",
     "text": [
      "0: 352x640 2 Maruti Suzukis, 109.1ms\n",
      "Speed: 2.0ms preprocess, 109.1ms inference, 2.0ms postprocess per image at shape (1, 3, 640, 640)\n",
      "\n",
      "0: 352x640 2 Maruti Suzukis, 110.6ms\n",
      "Speed: 2.0ms preprocess, 110.6ms inference, 1.0ms postprocess per image at shape (1, 3, 640, 640)\n",
      "\n"
     ]
    },
    {
     "name": "stdout",
     "output_type": "stream",
     "text": [
      "\n",
      "tensor([5., 5.]) Data\n",
      "\n",
      "\n",
      "tensor([5., 5.]) Data\n",
      "\n"
     ]
    },
    {
     "name": "stderr",
     "output_type": "stream",
     "text": [
      "0: 352x640 (no detections), 104.7ms\n",
      "Speed: 2.0ms preprocess, 104.7ms inference, 2.0ms postprocess per image at shape (1, 3, 640, 640)\n",
      "\n",
      "0: 352x640 1 Maruti Suzuki, 98.1ms\n",
      "Speed: 2.3ms preprocess, 98.1ms inference, 1.0ms postprocess per image at shape (1, 3, 640, 640)\n",
      "\n"
     ]
    },
    {
     "name": "stdout",
     "output_type": "stream",
     "text": [
      "\n",
      "tensor([]) Data\n",
      "\n",
      "\n",
      "tensor([5.]) Data\n",
      "\n"
     ]
    },
    {
     "name": "stderr",
     "output_type": "stream",
     "text": [
      "0: 352x640 (no detections), 95.6ms\n",
      "Speed: 3.0ms preprocess, 95.6ms inference, 0.0ms postprocess per image at shape (1, 3, 640, 640)\n",
      "\n",
      "0: 352x640 1 Maruti Suzuki, 99.0ms\n",
      "Speed: 2.0ms preprocess, 99.0ms inference, 1.0ms postprocess per image at shape (1, 3, 640, 640)\n",
      "\n"
     ]
    },
    {
     "name": "stdout",
     "output_type": "stream",
     "text": [
      "\n",
      "tensor([]) Data\n",
      "\n",
      "\n",
      "tensor([5.]) Data\n",
      "\n"
     ]
    },
    {
     "name": "stderr",
     "output_type": "stream",
     "text": [
      "0: 352x640 1 Maruti Suzuki, 107.4ms\n",
      "Speed: 2.0ms preprocess, 107.4ms inference, 1.0ms postprocess per image at shape (1, 3, 640, 640)\n",
      "\n",
      "0: 352x640 1 Maruti Suzuki, 124.0ms\n",
      "Speed: 2.0ms preprocess, 124.0ms inference, 1.0ms postprocess per image at shape (1, 3, 640, 640)\n",
      "\n"
     ]
    },
    {
     "name": "stdout",
     "output_type": "stream",
     "text": [
      "\n",
      "tensor([5.]) Data\n",
      "\n",
      "\n",
      "tensor([5.]) Data\n",
      "\n"
     ]
    },
    {
     "name": "stderr",
     "output_type": "stream",
     "text": [
      "0: 352x640 1 Maruti Suzuki, 113.4ms\n",
      "Speed: 2.0ms preprocess, 113.4ms inference, 1.0ms postprocess per image at shape (1, 3, 640, 640)\n",
      "\n",
      "0: 352x640 1 Maruti Suzuki, 101.6ms\n",
      "Speed: 1.0ms preprocess, 101.6ms inference, 0.0ms postprocess per image at shape (1, 3, 640, 640)\n",
      "\n"
     ]
    },
    {
     "name": "stdout",
     "output_type": "stream",
     "text": [
      "\n",
      "tensor([5.]) Data\n",
      "\n",
      "\n",
      "tensor([5.]) Data\n",
      "\n"
     ]
    },
    {
     "name": "stderr",
     "output_type": "stream",
     "text": [
      "0: 352x640 (no detections), 130.8ms\n",
      "Speed: 1.0ms preprocess, 130.8ms inference, 0.0ms postprocess per image at shape (1, 3, 640, 640)\n",
      "\n",
      "0: 352x640 1 Maruti Suzuki, 124.1ms\n",
      "Speed: 1.4ms preprocess, 124.1ms inference, 1.0ms postprocess per image at shape (1, 3, 640, 640)\n",
      "\n"
     ]
    },
    {
     "name": "stdout",
     "output_type": "stream",
     "text": [
      "\n",
      "tensor([]) Data\n",
      "\n",
      "\n",
      "tensor([5.]) Data\n",
      "\n"
     ]
    },
    {
     "name": "stderr",
     "output_type": "stream",
     "text": [
      "0: 352x640 1 Maruti Suzuki, 110.1ms\n",
      "Speed: 2.0ms preprocess, 110.1ms inference, 2.0ms postprocess per image at shape (1, 3, 640, 640)\n",
      "\n",
      "0: 352x640 2 Maruti Suzukis, 106.0ms\n",
      "Speed: 2.0ms preprocess, 106.0ms inference, 1.0ms postprocess per image at shape (1, 3, 640, 640)\n",
      "\n"
     ]
    },
    {
     "name": "stdout",
     "output_type": "stream",
     "text": [
      "\n",
      "tensor([5.]) Data\n",
      "\n",
      "\n",
      "tensor([5., 5.]) Data\n",
      "\n"
     ]
    },
    {
     "name": "stderr",
     "output_type": "stream",
     "text": [
      "0: 352x640 (no detections), 107.8ms\n",
      "Speed: 2.3ms preprocess, 107.8ms inference, 1.0ms postprocess per image at shape (1, 3, 640, 640)\n",
      "\n",
      "0: 352x640 (no detections), 102.7ms\n",
      "Speed: 2.0ms preprocess, 102.7ms inference, 1.0ms postprocess per image at shape (1, 3, 640, 640)\n",
      "\n"
     ]
    },
    {
     "name": "stdout",
     "output_type": "stream",
     "text": [
      "\n",
      "tensor([]) Data\n",
      "\n",
      "\n",
      "tensor([]) Data\n",
      "\n"
     ]
    },
    {
     "name": "stderr",
     "output_type": "stream",
     "text": [
      "0: 352x640 1 Maruti Suzuki, 106.3ms\n",
      "Speed: 2.0ms preprocess, 106.3ms inference, 1.0ms postprocess per image at shape (1, 3, 640, 640)\n",
      "\n",
      "0: 352x640 1 Maruti Suzuki, 112.3ms\n",
      "Speed: 2.0ms preprocess, 112.3ms inference, 1.0ms postprocess per image at shape (1, 3, 640, 640)\n",
      "\n"
     ]
    },
    {
     "name": "stdout",
     "output_type": "stream",
     "text": [
      "\n",
      "tensor([5.]) Data\n",
      "\n",
      "\n",
      "tensor([5.]) Data\n",
      "\n"
     ]
    },
    {
     "name": "stderr",
     "output_type": "stream",
     "text": [
      "0: 352x640 (no detections), 103.9ms\n",
      "Speed: 1.0ms preprocess, 103.9ms inference, 1.0ms postprocess per image at shape (1, 3, 640, 640)\n",
      "\n",
      "0: 352x640 (no detections), 110.8ms\n",
      "Speed: 2.2ms preprocess, 110.8ms inference, 1.0ms postprocess per image at shape (1, 3, 640, 640)\n",
      "\n"
     ]
    },
    {
     "name": "stdout",
     "output_type": "stream",
     "text": [
      "\n",
      "tensor([]) Data\n",
      "\n",
      "\n",
      "tensor([]) Data\n",
      "\n"
     ]
    },
    {
     "name": "stderr",
     "output_type": "stream",
     "text": [
      "0: 352x640 1 Maruti Suzuki, 100.8ms\n",
      "Speed: 1.0ms preprocess, 100.8ms inference, 1.0ms postprocess per image at shape (1, 3, 640, 640)\n",
      "\n",
      "0: 352x640 1 Maruti Suzuki, 104.0ms\n",
      "Speed: 2.0ms preprocess, 104.0ms inference, 1.0ms postprocess per image at shape (1, 3, 640, 640)\n"
     ]
    },
    {
     "name": "stdout",
     "output_type": "stream",
     "text": [
      "\n",
      "tensor([5.]) Data\n",
      "\n",
      "\n",
      "tensor([5.]) Data\n",
      "\n"
     ]
    }
   ],
   "source": [
    "import cv2\n",
    "from ultralytics import YOLO\n",
    "# Load the YOLOv8 model\n",
    "model = YOLO('best.pt')\n",
    "\n",
    "# Open the video file\n",
    "path = \"1.mp4\"\n",
    "a,b=path.split('.')\n",
    "if b in ['jpeg','jpg','png']:\n",
    "    img=cv2.imread(path)\n",
    "    results = model(img)\n",
    "    annotated_frame = results[0].plot()\n",
    "    cv2.imshow(\"YOLOv8 Inference\", annotated_frame)\n",
    "    cv2.waitKey(0)\n",
    "    cv2.destroyAllWindows()\n",
    "    \n",
    "else:\n",
    "    cap = cv2.VideoCapture(path)\n",
    "    # Loop through the video frames\n",
    "    while cap.isOpened():\n",
    "        # Read a frame from the video\n",
    "        success, frame = cap.read()\n",
    "        \n",
    "        if success:\n",
    "            # Run YOLOv8 inference on the frame\n",
    "            results = model(frame)\n",
    "            print()\n",
    "            print(results[0].boxes.cls,\"Data\")\n",
    "            print()\n",
    "            #,results[0].boxes.data,results[0].boxes.cls\n",
    "            # Visualize the results on the frame\n",
    "            annotated_frame = results[0].plot(conf=True,labels=True,probs=True)\n",
    "            cv2.namedWindow(\"YOLOv8 Inference\", cv2.WINDOW_NORMAL)\n",
    "\n",
    "            cv2.resizeWindow(\"YOLOv8 Inference\", 1280, 600)\n",
    "            # Display the annotated frame\n",
    "            cv2.imshow(\"YOLOv8 Inference\", annotated_frame)\n",
    "\n",
    "            # Break the loop if 'q' is pressed\n",
    "            if cv2.waitKey(1) & 0xFF == ord(\"q\"):\n",
    "                break\n",
    "        else:\n",
    "            # Break the loop if the end of the video is reached\n",
    "            break\n",
    "\n",
    "    # # Release the video capture object and close the display window\n",
    "    cap.release()\n",
    "    cv2.destroyAllWindows()"
   ]
  },
  {
   "cell_type": "code",
   "execution_count": null,
   "metadata": {},
   "outputs": [],
   "source": []
  },
  {
   "cell_type": "code",
   "execution_count": null,
   "metadata": {},
   "outputs": [],
   "source": []
  },
  {
   "cell_type": "code",
   "execution_count": null,
   "metadata": {},
   "outputs": [],
   "source": []
  }
 ],
 "metadata": {
  "kernelspec": {
   "display_name": "Python 3",
   "language": "python",
   "name": "python3"
  },
  "language_info": {
   "codemirror_mode": {
    "name": "ipython",
    "version": 3
   },
   "file_extension": ".py",
   "mimetype": "text/x-python",
   "name": "python",
   "nbconvert_exporter": "python",
   "pygments_lexer": "ipython3",
   "version": "3.10.0"
  },
  "orig_nbformat": 4
 },
 "nbformat": 4,
 "nbformat_minor": 2
}
